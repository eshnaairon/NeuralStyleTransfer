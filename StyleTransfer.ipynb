{
  "nbformat": 4,
  "nbformat_minor": 0,
  "metadata": {
    "colab": {
      "name": "Copy of StyleTransfer.ipynb",
      "provenance": [],
      "collapsed_sections": []
    },
    "kernelspec": {
      "name": "python3",
      "display_name": "Python 3"
    },
    "accelerator": "GPU"
  },
  "cells": [
    {
      "cell_type": "code",
      "metadata": {
        "id": "bY0wLmenSsUL",
        "colab_type": "code",
        "colab": {
          "base_uri": "https://localhost:8080/",
          "height": 35
        },
        "outputId": "f69fa869-64e7-4242-f292-598cc9e0de55"
      },
      "source": [
        "import tensorflow as tf\n",
        "tf.__version__\n"
      ],
      "execution_count": null,
      "outputs": [
        {
          "output_type": "execute_result",
          "data": {
            "application/vnd.google.colaboratory.intrinsic": {
              "type": "string"
            },
            "text/plain": [
              "'2.2.0'"
            ]
          },
          "metadata": {
            "tags": []
          },
          "execution_count": 2
        }
      ]
    },
    {
      "cell_type": "markdown",
      "metadata": {
        "id": "42X060YfZCwP",
        "colab_type": "text"
      },
      "source": [
        ""
      ]
    },
    {
      "cell_type": "code",
      "metadata": {
        "id": "nZ2q2DcKS0CV",
        "colab_type": "code",
        "colab": {}
      },
      "source": [
        "import IPython.display as display\n",
        " \n",
        "import matplotlib.pyplot as plt\n",
        "import matplotlib as mpl\n",
        "mpl.rcParams['figure.figsize'] = (12,12)\n",
        "mpl.rcParams['axes.grid'] = False\n",
        " \n",
        "import numpy as np\n",
        "import PIL.Image\n",
        "import time\n",
        "import functools\n",
        "from PIL import Image"
      ],
      "execution_count": null,
      "outputs": []
    },
    {
      "cell_type": "code",
      "metadata": {
        "id": "oh40D--bWZRN",
        "colab_type": "code",
        "colab": {}
      },
      "source": [
        "def model1(content_image,style_image):\n",
        "          \n",
        "      content_image= Image.open(content_image)\n",
        "      style_image= Image.open(style_image)\n",
        "      \n",
        "      content_image = content_image.convert('RGB')\n",
        "      style_image = style_image.convert('RGB')\n",
        "\n",
        "\n",
        "     \n",
        "      (content_image).save('content.jpg')\n",
        "      (style_image).save('style.jpg')\n",
        "\n",
        "      content_path=\"/content/content.jpg\"    #path where the image is stored\n",
        "      style_path=\"/content/style.jpg\"\n",
        "\n",
        "\n",
        " \n",
        "      def load_img(path_to_img):\n",
        "        max_dim = 512\n",
        "        img = tf.io.read_file(path_to_img)\n",
        "        img = tf.image.decode_image(img, channels=3)\n",
        "        img = tf.image.convert_image_dtype(img, tf.float32)\n",
        " \n",
        "        shape = tf.cast(tf.shape(img)[:-1], tf.float32)\n",
        "        long_dim = max(shape)\n",
        "        scale = max_dim / long_dim\n",
        " \n",
        "        new_shape = tf.cast(shape * scale, tf.int32)\n",
        " \n",
        "        img = tf.image.resize(img, new_shape)\n",
        "        img = img[tf.newaxis, :]\n",
        "        return img\n",
        " \n",
        "      content_image= load_img(content_path)\n",
        "      style_image= load_img(style_path)\n",
        "      \n",
        "      def tensor_to_image(tensor):\n",
        "        tensor = tensor*255\n",
        "        tensor = np.array(tensor, dtype=np.uint8)\n",
        "        if np.ndim(tensor)>3:\n",
        "          assert tensor.shape[0] == 1\n",
        "          tensor = tensor[0]\n",
        "        return PIL.Image.fromarray(tensor)\n",
        " \n",
        " \n",
        "            \n",
        " \n",
        "      def imshow(image, title=None):\n",
        "        if len(image.shape) > 3:\n",
        "          image = tf.squeeze(image, axis=0)\n",
        " \n",
        "        plt.imshow(image)\n",
        "        if title:\n",
        "          plt.title(title)\n",
        " \n",
        " \n",
        "      content_layers = ['block5_conv2'] \n",
        " \n",
        "      style_layers = ['block1_conv1',\n",
        "                      'block2_conv1',\n",
        "                      'block3_conv1', \n",
        "                      'block4_conv1', \n",
        "                      'block5_conv1']\n",
        " \n",
        "      num_content_layers = len(content_layers)\n",
        "      num_style_layers = len(style_layers)\n",
        " \n",
        " \n",
        "      def vgg_layers(layer_names):\n",
        "        \"\"\" Creates a vgg model that returns a list of intermediate output values.\"\"\"\n",
        "        # Load our model. Load pretrained VGG, trained on imagenet data\n",
        "        vgg = tf.keras.applications.VGG19(include_top=False, weights='imagenet')\n",
        "        vgg.trainable = False\n",
        "        \n",
        "        outputs = [vgg.get_layer(name).output for name in layer_names]\n",
        " \n",
        "        model = tf.keras.Model([vgg.input], outputs)\n",
        "        return model\n",
        " \n",
        " \n",
        "      style_extractor = vgg_layers(style_layers)\n",
        "      style_outputs = style_extractor(style_image*255)\n",
        " \n",
        " \n",
        "      def gram_matrix(input_tensor):\n",
        "        result = tf.linalg.einsum('bijc,bijd->bcd', input_tensor, input_tensor)\n",
        "        input_shape = tf.shape(input_tensor)\n",
        "        num_locations = tf.cast(input_shape[1]*input_shape[2], tf.float32)\n",
        "        return result/(num_locations)\n",
        " \n",
        " \n",
        "      class StyleContentModel(tf.keras.models.Model):\n",
        "        def __init__(self, style_layers, content_layers):\n",
        "          super(StyleContentModel, self).__init__()\n",
        "          self.vgg =  vgg_layers(style_layers + content_layers)\n",
        "          self.style_layers = style_layers\n",
        "          self.content_layers = content_layers\n",
        "          self.num_style_layers = len(style_layers)\n",
        "          self.vgg.trainable = False\n",
        " \n",
        "        def call(self, inputs):\n",
        "          \"Expects float input in [0,1]\"\n",
        "          inputs = inputs*255.0\n",
        "          preprocessed_input = tf.keras.applications.vgg19.preprocess_input(inputs)\n",
        "          outputs = self.vgg(preprocessed_input)\n",
        "          style_outputs, content_outputs = (outputs[:self.num_style_layers], \n",
        "                                            outputs[self.num_style_layers:])\n",
        " \n",
        "          style_outputs = [gram_matrix(style_output)\n",
        "                          for style_output in style_outputs]\n",
        " \n",
        "          content_dict = {content_name:value \n",
        "                          for content_name, value \n",
        "                          in zip(self.content_layers, content_outputs)}\n",
        " \n",
        "          style_dict = {style_name:value\n",
        "                        for style_name, value\n",
        "                        in zip(self.style_layers, style_outputs)}\n",
        "          \n",
        "          return {'content':content_dict, 'style':style_dict}\n",
        " \n",
        "      extractor = StyleContentModel(style_layers, content_layers)\n",
        " \n",
        "      results = extractor(tf.constant(content_image))\n",
        " \n",
        "      style_targets = extractor(style_image)['style']\n",
        "      content_targets = extractor(content_image)['content']\n",
        " \n",
        " \n",
        "      image = tf.Variable(content_image)\n",
        " \n",
        "      def clip_0_1(image):\n",
        "        return tf.clip_by_value(image, clip_value_min=0.0, clip_value_max=1.0)\n",
        " \n",
        "      opt = tf.optimizers.Adam(learning_rate=0.02, beta_1=0.99, epsilon=1e-1)\n",
        " \n",
        "      style_weight=1e-2\n",
        "      content_weight=1e4\n",
        " \n",
        "      def style_content_loss(outputs):\n",
        "          style_outputs = outputs['style']\n",
        "          content_outputs = outputs['content']\n",
        "          style_loss = tf.add_n([tf.reduce_mean((style_outputs[name]-style_targets[name])**2) \n",
        "                                for name in style_outputs.keys()])\n",
        "          style_loss *= style_weight / num_style_layers\n",
        " \n",
        "          content_loss = tf.add_n([tf.reduce_mean((content_outputs[name]-content_targets[name])**2) \n",
        "                                  for name in content_outputs.keys()])\n",
        "          content_loss *= content_weight / num_content_layers\n",
        "          loss = style_loss + content_loss\n",
        "          return loss\n",
        " \n",
        "      def high_pass_x_y(image):\n",
        "        x_var = image[:,:,1:,:] - image[:,:,:-1,:]\n",
        "        y_var = image[:,1:,:,:] - image[:,:-1,:,:]\n",
        " \n",
        "        return x_var, y_var\n",
        " \n",
        " \n",
        "      def total_variation_loss(image):\n",
        "        x_deltas, y_deltas = high_pass_x_y(image)\n",
        "        return tf.reduce_sum(tf.abs(x_deltas)) + tf.reduce_sum(tf.abs(y_deltas))\n",
        " \n",
        "      total_variation_loss(image).numpy()\n",
        " \n",
        "      total_variation_weight=30\n",
        " \n",
        " \n",
        "      @tf.function()\n",
        "      def train_step(image):\n",
        "        with tf.GradientTape() as tape:\n",
        "          outputs = extractor(image)\n",
        "          loss = style_content_loss(outputs)\n",
        "          loss += total_variation_weight*tf.image.total_variation(image)\n",
        "\n",
        "        grad = tape.gradient(loss, image)\n",
        "        opt.apply_gradients([(grad, image)])\n",
        "        image.assign(clip_0_1(image))\n",
        "        \n",
        " \n",
        " \n",
        "      image = tf.Variable(content_image)\n",
        " \n",
        " \n",
        "      import time\n",
        "      start = time.time()\n",
        " \n",
        "      epochs = 10\n",
        "      steps_per_epoch = 100\n",
        " \n",
        "      step = 0\n",
        "      for n in range(epochs):\n",
        "        for m in range(steps_per_epoch):\n",
        "          step += 1\n",
        "          train_step(image)\n",
        "          print(\".\", end='')\n",
        "        display.clear_output(wait=True)\n",
        "        display.display(tensor_to_image(image))\n",
        "        print(\"Train step: {}\".format(step))\n",
        "      end = time.time()\n",
        " \n",
        "      display.display(tensor_to_image(image))\n",
        " \n",
        "      file_name = 'stylized-image.png'\n",
        "      tensor_to_image(image).save(file_name)"
      ],
      "execution_count": null,
      "outputs": []
    },
    {
      "cell_type": "code",
      "metadata": {
        "id": "lmocPi2C4nx4",
        "colab_type": "code",
        "colab": {}
      },
      "source": [
        "\"\"\" Get frontend files from google drive \"\"\"\n",
        " \n",
        "!mkdir templates\n",
        "!mkdir static\n",
        "!cp /content/drive/My\\ Drive/StyleTransfer/index.html templates/\n",
        "!cp /content/drive/My\\ Drive/StyleTransfer/generated.html templates/\n",
        "!cp /content/drive/My\\ Drive/StyleTransfer/style.css static/\n",
        "!cp /content/drive/My\\ Drive/StyleTransfer/function.js static/"
      ],
      "execution_count": null,
      "outputs": []
    },
    {
      "cell_type": "code",
      "metadata": {
        "id": "QFpNk9bLPb-I",
        "colab_type": "code",
        "colab": {
          "base_uri": "https://localhost:8080/",
          "height": 105
        },
        "outputId": "95cff232-b70b-4efe-c1b8-907496dcfeff"
      },
      "source": [
        "\"\"\" Get public url \"\"\"\n",
        " \n",
        "!pip install pyngrok\n",
        "!ngrok authtoken <yourcodehere>\n",
        "from pyngrok import ngrok\n",
        "public_url=ngrok.connect(port=\"5000\")\n",
        " \n",
        "public_url"
      ],
      "execution_count": null,
      "outputs": [
        {
          "output_type": "stream",
          "text": [
            "Requirement already satisfied: pyngrok in /usr/local/lib/python3.6/dist-packages (4.1.6)\n",
            "Requirement already satisfied: future in /usr/local/lib/python3.6/dist-packages (from pyngrok) (0.16.0)\n",
            "Requirement already satisfied: PyYAML in /usr/local/lib/python3.6/dist-packages (from pyngrok) (3.13)\n",
            "Authtoken saved to configuration file: /root/.ngrok2/ngrok.yml\n"
          ],
          "name": "stdout"
        },
        {
          "output_type": "execute_result",
          "data": {
            "application/vnd.google.colaboratory.intrinsic": {
              "type": "string"
            },
            "text/plain": [
              "'http://f167d623f962.ngrok.io'"
            ]
          },
          "metadata": {
            "tags": []
          },
          "execution_count": 47
        }
      ]
    },
    {
      "cell_type": "code",
      "metadata": {
        "id": "bKBWRpVm050a",
        "colab_type": "code",
        "colab": {
          "base_uri": "https://localhost:8080/",
          "height": 121
        },
        "outputId": "9c34cfd3-02e5-4b14-c15b-3a96f5692407"
      },
      "source": [
        "\"\"\" Backend api \"\"\"\n",
        "\n",
        "from flask import Flask, request, render_template, url_for\n",
        "from PIL import Image\n",
        " \n",
        "app = Flask(__name__)\n",
        " \n",
        "@app.route('/')\n",
        "@app.route('/index')\n",
        "def index():\n",
        " \n",
        "    return render_template('index.html')\n",
        " \n",
        "@app.route('/program', methods=['GET', 'POST'])\n",
        "def program():\n",
        "    if request.method == 'POST':\n",
        "        if request.files:\n",
        " \n",
        "            content = request.files.get('file1','')\n",
        "            style = request.files.get('file2','')\n",
        "            model1(content, style)\n",
        " \n",
        "    return render_template('index.html')\n",
        " \n",
        "@app.route('/generated', methods=['GET', 'POST'])\n",
        "def generated():\n",
        "    return render_template('generated.html', content='/stylized-image.png')\n",
        " \n",
        "if __name__ == \"__main__\":\n",
        "    app.run()"
      ],
      "execution_count": null,
      "outputs": [
        {
          "output_type": "stream",
          "text": [
            " * Serving Flask app \"__main__\" (lazy loading)\n",
            " * Environment: production\n",
            "\u001b[31m   WARNING: This is a development server. Do not use it in a production deployment.\u001b[0m\n",
            "\u001b[2m   Use a production WSGI server instead.\u001b[0m\n",
            " * Debug mode: off\n"
          ],
          "name": "stdout"
        },
        {
          "output_type": "stream",
          "text": [
            " * Running on http://127.0.0.1:5000/ (Press CTRL+C to quit)\n"
          ],
          "name": "stderr"
        }
      ]
    },
    {
      "cell_type": "code",
      "metadata": {
        "id": "lg7E2sN0M89a",
        "colab_type": "code",
        "colab": {}
      },
      "source": [
        ""
      ],
      "execution_count": null,
      "outputs": []
    }
  ]
}